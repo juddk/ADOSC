{
 "cells": [
  {
   "cell_type": "code",
   "execution_count": 1,
   "metadata": {},
   "outputs": [],
   "source": [
    "\n",
    "import torch\n",
    "import torch\n",
    "import numpy as np\n",
    "import sys\n",
    "import os\n",
    "sys.path.append(os.path.join(os.path.abspath(''), 'core'))\n",
    "from zeropi import ZeroPi\n",
    "import general \n",
    "\n"
   ]
  },
  {
   "cell_type": "code",
   "execution_count": 2,
   "metadata": {},
   "outputs": [],
   "source": [
    "#create ZeroPi\n",
    "\n",
    "#paramaters to pptimise over\n",
    "EJ = torch.tensor(10.00, requires_grad=True, dtype=torch.double)\n",
    "EL = torch.tensor(0.04, requires_grad=True, dtype=torch.double)\n",
    "ECJ = torch.tensor(20, requires_grad=True, dtype=torch.double)\n",
    "EC = torch.tensor(0.04, requires_grad=True, dtype=torch.double)\n",
    "dEJ = torch.tensor(0.0, requires_grad=True, dtype=torch.double)\n",
    "dCJ = torch.tensor(0.0, requires_grad=True, dtype=torch.double)\n",
    "ECS= torch.tensor(0.1, requires_grad=True, dtype=torch.double)\n",
    "\n",
    "#fixed params of system\n",
    "flux = 0.5\n",
    "ng = 0.1\n",
    "\n",
    "#fixed params of computation\n",
    "ncut = 30\n",
    "hamiltonian_creation_solution = \"manual_discretization_davidson\"\n",
    "discretization_dim = 100\n",
    "\n",
    "\n",
    "zeropi = ZeroPi(EJ=EJ, \n",
    "                 EL=EL , \n",
    "                 ECJ=ECJ, \n",
    "                 EC=EC, \n",
    "                 dEJ=dEJ,\n",
    "                 ECS = ECS, \n",
    "                 dCJ=dCJ, \n",
    "                 flux = flux,\n",
    "                 ng=ng, \n",
    "                 ncut = ncut,\n",
    "                 discretization_dim =discretization_dim,\n",
    "                 hamiltonian_creation_solution=hamiltonian_creation_solution)\n",
    "\n"
   ]
  },
  {
   "cell_type": "code",
   "execution_count": 3,
   "metadata": {},
   "outputs": [
    {
     "name": "stderr",
     "output_type": "stream",
     "text": [
      "UserWarning: To copy construct from a tensor, it is recommended to use sourceTensor.clone().detach() or sourceTensor.clone().detach().requires_grad_(True), rather than torch.tensor(sourceTensor).\n",
      " /Users/judd/Documents/AD_superconducting_qubit/ADOSC/core/zeropi.py: 169UserWarning: To copy construct from a tensor, it is recommended to use sourceTensor.clone().detach() or sourceTensor.clone().detach().requires_grad_(True), rather than torch.tensor(sourceTensor).\n",
      " /Users/judd/Documents/AD_superconducting_qubit/ADOSC/core/zeropi.py: 182UserWarning: To copy construct from a tensor, it is recommended to use sourceTensor.clone().detach() or sourceTensor.clone().detach().requires_grad_(True), rather than torch.tensor(sourceTensor).\n",
      " /Users/judd/Documents/AD_superconducting_qubit/ADOSC/core/zeropi.py: 163UserWarning: To copy construct from a tensor, it is recommended to use sourceTensor.clone().detach() or sourceTensor.clone().detach().requires_grad_(True), rather than torch.tensor(sourceTensor).\n",
      " /Users/judd/Documents/AD_superconducting_qubit/ADOSC/core/zeropi.py: 188UserWarning: To copy construct from a tensor, it is recommended to use sourceTensor.clone().detach() or sourceTensor.clone().detach().requires_grad_(True), rather than torch.tensor(sourceTensor).\n",
      " /Users/judd/Documents/AD_superconducting_qubit/ADOSC/core/zeropi.py: 175"
     ]
    }
   ],
   "source": [
    "\n",
    "eigvals, eigvecs = zeropi.esys()\n"
   ]
  },
  {
   "cell_type": "code",
   "execution_count": 4,
   "metadata": {},
   "outputs": [
    {
     "data": {
      "text/plain": [
       "tensor(-0.0018, dtype=torch.float64, grad_fn=<SubBackward0>)"
      ]
     },
     "execution_count": 4,
     "metadata": {},
     "output_type": "execute_result"
    }
   ],
   "source": [
    "dE = eigvals[0] -eigvals[1]\n",
    "dE"
   ]
  },
  {
   "cell_type": "code",
   "execution_count": 5,
   "metadata": {},
   "outputs": [],
   "source": [
    "dE.backward()"
   ]
  },
  {
   "cell_type": "code",
   "execution_count": 5,
   "metadata": {},
   "outputs": [],
   "source": [
    "\n",
    "\n"
   ]
  },
  {
   "cell_type": "code",
   "execution_count": 3,
   "metadata": {},
   "outputs": [
    {
     "name": "stderr",
     "output_type": "stream",
     "text": [
      "UserWarning: To copy construct from a tensor, it is recommended to use sourceTensor.clone().detach() or sourceTensor.clone().detach().requires_grad_(True), rather than torch.tensor(sourceTensor).\n",
      " /Users/judd/Documents/AD_superconducting_qubit/ADOSC/core/zeropi.py: 179UserWarning: To copy construct from a tensor, it is recommended to use sourceTensor.clone().detach() or sourceTensor.clone().detach().requires_grad_(True), rather than torch.tensor(sourceTensor).\n",
      " /Users/judd/Documents/AD_superconducting_qubit/ADOSC/core/zeropi.py: 200UserWarning: To copy construct from a tensor, it is recommended to use sourceTensor.clone().detach() or sourceTensor.clone().detach().requires_grad_(True), rather than torch.tensor(sourceTensor).\n",
      " /Users/judd/Documents/AD_superconducting_qubit/ADOSC/core/zeropi.py: 169UserWarning: To copy construct from a tensor, it is recommended to use sourceTensor.clone().detach() or sourceTensor.clone().detach().requires_grad_(True), rather than torch.tensor(sourceTensor).\n",
      " /Users/judd/Documents/AD_superconducting_qubit/ADOSC/core/zeropi.py: 210UserWarning: To copy construct from a tensor, it is recommended to use sourceTensor.clone().detach() or sourceTensor.clone().detach().requires_grad_(True), rather than torch.tensor(sourceTensor).\n",
      " /Users/judd/Documents/AD_superconducting_qubit/ADOSC/core/zeropi.py: 189"
     ]
    },
    {
     "ename": "TypeError",
     "evalue": "'ZeroPi' object is not subscriptable",
     "output_type": "error",
     "traceback": [
      "\u001b[0;31m---------------------------------------------------------------------------\u001b[0m",
      "\u001b[0;31mTypeError\u001b[0m                                 Traceback (most recent call last)",
      "Cell \u001b[0;32mIn[3], line 1\u001b[0m\n\u001b[0;32m----> 1\u001b[0m t \u001b[39m=\u001b[39m gc\u001b[39m.\u001b[39;49mt2_rate(zeropi, \u001b[39mTrue\u001b[39;49;00m)\n",
      "File \u001b[0;32m~/Documents/AD_superconducting_qubit/ADOSC/core/general_copy.py:349\u001b[0m, in \u001b[0;36mt2_rate\u001b[0;34m(qubit, sparse)\u001b[0m\n\u001b[1;32m    347\u001b[0m t1_noise_channels \u001b[39m=\u001b[39m qubit\u001b[39m.\u001b[39mt1_supported_noise_channels()\n\u001b[1;32m    348\u001b[0m tphi_noise_channels \u001b[39m=\u001b[39m qubit\u001b[39m.\u001b[39mtphi_supported_noise_channels()\n\u001b[0;32m--> 349\u001b[0m t1_rate \u001b[39m=\u001b[39m effective_t1_rate(qubit, eigvecs\u001b[39m=\u001b[39;49meigvecs, sparse\u001b[39m=\u001b[39;49msparse, noise_channels\u001b[39m=\u001b[39;49mt1_noise_channels)\n\u001b[1;32m    350\u001b[0m tphi_rate \u001b[39m=\u001b[39m effective_tphi_rate(qubit, eigvecs\u001b[39m=\u001b[39meigvecs, sparse\u001b[39m=\u001b[39msparse, noise_channels\u001b[39m=\u001b[39mtphi_noise_channels)\n\u001b[1;32m    352\u001b[0m \u001b[39mreturn\u001b[39;00m \u001b[39m0.5\u001b[39m \u001b[39m*\u001b[39m t1_rate \u001b[39m+\u001b[39m tphi_rate\n",
      "File \u001b[0;32m~/Documents/AD_superconducting_qubit/ADOSC/core/general_copy.py:159\u001b[0m, in \u001b[0;36mt2_rate.<locals>.effective_t1_rate\u001b[0;34m(qubit, eigvecs, sparse, noise_channels, T, M, R_0, R_k)\u001b[0m\n\u001b[1;32m    150\u001b[0m     t1 \u001b[39m+\u001b[39m\u001b[39m=\u001b[39m t1_rate(\n\u001b[1;32m    151\u001b[0m         noise_op\u001b[39m=\u001b[39mqubit\u001b[39m.\u001b[39mn_operator(sparse),\n\u001b[1;32m    152\u001b[0m         spectral_density\u001b[39m=\u001b[39mspectral_density_cap(qubit, \u001b[39mTrue\u001b[39;00m, T) \u001b[39m+\u001b[39m spectral_density_cap(qubit, \u001b[39mFalse\u001b[39;00m, T),\n\u001b[1;32m    153\u001b[0m         eigvecs\u001b[39m=\u001b[39meigvecs,\n\u001b[1;32m    154\u001b[0m     )\n\u001b[1;32m    156\u001b[0m \u001b[39mif\u001b[39;00m \u001b[39m\"\u001b[39m\u001b[39mt1_flux_bias_line\u001b[39m\u001b[39m\"\u001b[39m \u001b[39min\u001b[39;00m noise_channels:\n\u001b[1;32m    157\u001b[0m     t1 \u001b[39m+\u001b[39m\u001b[39m=\u001b[39m t1_rate(\n\u001b[1;32m    158\u001b[0m         noise_op\u001b[39m=\u001b[39mqubit\u001b[39m.\u001b[39md_hamiltonian_d_flux_operator(sparse),\n\u001b[0;32m--> 159\u001b[0m         spectral_density\u001b[39m=\u001b[39mspectral_density_fbl(qubit, \u001b[39mTrue\u001b[39;49;00m, M, R_0, T)\n\u001b[1;32m    160\u001b[0m         \u001b[39m+\u001b[39m spectral_density_fbl(qubit, \u001b[39mFalse\u001b[39;00m, M, R_0, T),\n\u001b[1;32m    161\u001b[0m         eigvecs\u001b[39m=\u001b[39meigvecs,\n\u001b[1;32m    162\u001b[0m     )\n\u001b[1;32m    164\u001b[0m \u001b[39mif\u001b[39;00m \u001b[39m\"\u001b[39m\u001b[39mt1_charge_impedance\u001b[39m\u001b[39m\"\u001b[39m \u001b[39min\u001b[39;00m noise_channels:\n\u001b[1;32m    165\u001b[0m     t1 \u001b[39m+\u001b[39m\u001b[39m=\u001b[39m t1_rate(\n\u001b[1;32m    166\u001b[0m         noise_op\u001b[39m=\u001b[39mqubit\u001b[39m.\u001b[39mn_operator(sparse),\n\u001b[1;32m    167\u001b[0m         spectral_density\u001b[39m=\u001b[39mspectral_density_ci(qubit, \u001b[39mTrue\u001b[39;00m, R_0, T, R_k)\n\u001b[1;32m    168\u001b[0m         \u001b[39m+\u001b[39m spectral_density_ci(qubit, \u001b[39mFalse\u001b[39;00m, R_0, T, R_k),\n\u001b[1;32m    169\u001b[0m         eigvecs\u001b[39m=\u001b[39meigvecs,\n\u001b[1;32m    170\u001b[0m     )\n",
      "File \u001b[0;32m~/Documents/AD_superconducting_qubit/ADOSC/core/general_copy.py:237\u001b[0m, in \u001b[0;36mt2_rate.<locals>.spectral_density_fbl\u001b[0;34m(qubit, plus_minus_omega, M, R_0, T)\u001b[0m\n\u001b[1;32m    230\u001b[0m \u001b[39mdef\u001b[39;00m \u001b[39mspectral_density_fbl\u001b[39m(\n\u001b[1;32m    231\u001b[0m     qubit,\n\u001b[1;32m    232\u001b[0m     plus_minus_omega: \u001b[39mbool\u001b[39m,\n\u001b[0;32m   (...)\u001b[0m\n\u001b[1;32m    235\u001b[0m     T: \u001b[39mfloat\u001b[39m \u001b[39m=\u001b[39m NOISE_PARAMS[\u001b[39m\"\u001b[39m\u001b[39mT\u001b[39m\u001b[39m\"\u001b[39m],\n\u001b[1;32m    236\u001b[0m ):\n\u001b[0;32m--> 237\u001b[0m     omega_for_calc \u001b[39m=\u001b[39m omega(qubit) \u001b[39mif\u001b[39;00m plus_minus_omega \u001b[39melse\u001b[39;00m \u001b[39m-\u001b[39momega(qubit)\n\u001b[1;32m    238\u001b[0m     therm_ratio \u001b[39m=\u001b[39m calc_therm_ratio(omega_for_calc, T)\n\u001b[1;32m    239\u001b[0m     s \u001b[39m=\u001b[39m (\n\u001b[1;32m    240\u001b[0m         \u001b[39m2\u001b[39m\n\u001b[1;32m    241\u001b[0m         \u001b[39m*\u001b[39m (\u001b[39m2\u001b[39m \u001b[39m*\u001b[39m np\u001b[39m.\u001b[39mpi) \u001b[39m*\u001b[39m\u001b[39m*\u001b[39m \u001b[39m2\u001b[39m\n\u001b[0;32m   (...)\u001b[0m\n\u001b[1;32m    247\u001b[0m         \u001b[39m/\u001b[39m (\u001b[39m1\u001b[39m \u001b[39m+\u001b[39m torch\u001b[39m.\u001b[39mexp(\u001b[39m-\u001b[39mtherm_ratio))\n\u001b[1;32m    248\u001b[0m     )\n",
      "File \u001b[0;32m~/Documents/AD_superconducting_qubit/ADOSC/core/general_copy.py:61\u001b[0m, in \u001b[0;36mt2_rate.<locals>.omega\u001b[0;34m(eigvals)\u001b[0m\n\u001b[1;32m     59\u001b[0m \u001b[39mdef\u001b[39;00m \u001b[39momega\u001b[39m(eigvals) \u001b[39m-\u001b[39m\u001b[39m>\u001b[39m torch\u001b[39m.\u001b[39mTensor:\n\u001b[1;32m     60\u001b[0m     \u001b[39m# angular frequency between ground and excited states\u001b[39;00m\n\u001b[0;32m---> 61\u001b[0m     ground_E \u001b[39m=\u001b[39m eigvals[\u001b[39m0\u001b[39;49m]\n\u001b[1;32m     62\u001b[0m     excited_E \u001b[39m=\u001b[39m eigvals[\u001b[39m1\u001b[39m]\n\u001b[1;32m     63\u001b[0m     \u001b[39mreturn\u001b[39;00m \u001b[39m2\u001b[39m \u001b[39m*\u001b[39m np\u001b[39m.\u001b[39mpi \u001b[39m*\u001b[39m (excited_E \u001b[39m-\u001b[39m ground_E)\n",
      "\u001b[0;31mTypeError\u001b[0m: 'ZeroPi' object is not subscriptable"
     ]
    }
   ],
   "source": [
    "eigvals, eigvecs = zeropi.esys()\n",
    "t = general.t2_rate(zeropi, eigvecs, True)"
   ]
  },
  {
   "cell_type": "code",
   "execution_count": 19,
   "metadata": {},
   "outputs": [
    {
     "ename": "RuntimeError",
     "evalue": "reshape is not implemented for sparse tensors",
     "output_type": "error",
     "traceback": [
      "\u001b[0;31m---------------------------------------------------------------------------\u001b[0m",
      "\u001b[0;31mRuntimeError\u001b[0m                              Traceback (most recent call last)",
      "Cell \u001b[0;32mIn[19], line 22\u001b[0m\n\u001b[1;32m     17\u001b[0m \u001b[39m# Construct the 'ground' sparse tensor\u001b[39;00m\n\u001b[1;32m     18\u001b[0m ground \u001b[39m=\u001b[39m torch\u001b[39m.\u001b[39msparse_coo_tensor(indices\u001b[39m=\u001b[39msequence\u001b[39m.\u001b[39munsqueeze(\u001b[39m0\u001b[39m), values\u001b[39m=\u001b[39mground_values, size\u001b[39m=\u001b[39m(\u001b[39m10000\u001b[39m,))\n\u001b[0;32m---> 22\u001b[0m ground_2d \u001b[39m=\u001b[39m ground\u001b[39m.\u001b[39;49mreshape(\u001b[39m10000\u001b[39;49m, \u001b[39m1\u001b[39;49m)\n\u001b[1;32m     24\u001b[0m \u001b[39mprint\u001b[39m(torch\u001b[39m.\u001b[39mtranspose(ground\u001b[39m.\u001b[39mto(torch\u001b[39m.\u001b[39mcomplex128),\u001b[39m0\u001b[39m,\u001b[39m-\u001b[39m\u001b[39m1\u001b[39m))\n",
      "\u001b[0;31mRuntimeError\u001b[0m: reshape is not implemented for sparse tensors"
     ]
    }
   ],
   "source": [
    "import torch\n",
    "\n",
    "# Define a utility to generate a series of numbers for simplicity\n",
    "sequence = torch.arange(0, 10000)\n",
    "\n",
    "# Create the indices and values for the 'noise' tensor\n",
    "noise_indices = torch.stack([sequence, sequence])\n",
    "noise_values = torch.full((10000,), -10.+0.j, dtype=torch.complex128)\n",
    "\n",
    "# Construct the 'noise' sparse tensor\n",
    "noise = torch.sparse_coo_tensor(indices=noise_indices, values=noise_values, size=(10000, 10000))\n",
    "\n",
    "# You'll need to provide the full list of values for 'ground' for it to be exact.\n",
    "# Here's a placeholder for the 'ground' tensor:\n",
    "ground_values = torch.tensor([8.3409e-06+0.j, -7.3005e-06+0.j] + [0.j] * 9998, dtype=torch.complex128)\n",
    "\n",
    "# Construct the 'ground' sparse tensor\n",
    "ground = torch.sparse_coo_tensor(indices=sequence.unsqueeze(0), values=ground_values, size=(10000,))\n",
    "\n",
    "\n",
    "print(ground)\n",
    "ground_2d = ground.reshape(10000, 1)\n",
    "\n",
    "print(torch.transpose(ground.to(torch.complex128),0,-1))\n",
    "\n"
   ]
  },
  {
   "cell_type": "code",
   "execution_count": null,
   "metadata": {},
   "outputs": [],
   "source": [
    "result = torch.sparse.mm(noise, ground_2d)\n",
    "rate = torch.mv(noise.to(torch.complex128), torch.transpose(ground.to(torch.complex128),-1,0))\n"
   ]
  }
 ],
 "metadata": {
  "kernelspec": {
   "display_name": "venv",
   "language": "python",
   "name": "python3"
  },
  "language_info": {
   "codemirror_mode": {
    "name": "ipython",
    "version": 3
   },
   "file_extension": ".py",
   "mimetype": "text/x-python",
   "name": "python",
   "nbconvert_exporter": "python",
   "pygments_lexer": "ipython3",
   "version": "3.8.6"
  },
  "orig_nbformat": 4
 },
 "nbformat": 4,
 "nbformat_minor": 2
}
